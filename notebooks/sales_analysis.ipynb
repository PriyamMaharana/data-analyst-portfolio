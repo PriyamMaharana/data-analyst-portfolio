{
 "cells": [
  {
   "cell_type": "code",
   "execution_count": null,
   "metadata": {},
   "outputs": [],
   "source": [
    "import pandas as pd\n",
    "import matplotlib.pyplot as plt\n",
    "import seaborn as sns\n",
    "\n",
    "# Load data\n",
    "df = pd.read_csv('../data/sales_data.csv')\n",
    "\n",
    "# Basic info\n",
    "print(df.head())\n",
    "print(df.describe())\n",
    "\n",
    "# Total revenue\n",
    "df['Revenue'] = df['Quantity'] * df['Price']\n",
    "print(\"Total Revenue:\", df['Revenue'].sum())\n",
    "\n",
    "# Visualization\n",
    "plt.figure(figsize=(6,4))\n",
    "sns.barplot(x='Category', y='Revenue', data=df, estimator=sum)\n",
    "plt.title(\"Revenue by Category\")\n",
    "plt.show()\n"
   ]
  }
 ],
 "metadata": {
  "kernelspec": {
   "display_name": "Python 3",
   "language": "python",
   "name": "python3"
  },
  "language_info": {
   "name": "python",
   "version": "3.9.13"
  }
 },
 "nbformat": 4,
 "nbformat_minor": 2
}
